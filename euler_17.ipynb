{
 "cells": [
  {
   "cell_type": "code",
   "execution_count": 1,
   "metadata": {},
   "outputs": [
    {
     "data": {
      "text/plain": [
       "'\\nNumber letter counts\\n\\nProblem 17 \\n\\nIf the numbers 1 to 5 are written out in words: one, two, three, four, five, \\nthen there are 3 + 3 + 5 + 4 + 4 = 19 letters used in total.\\n\\nIf all the numbers from 1 to 1000 (one thousand) inclusive were written out in words, \\nhow many letters would be used?\\n\\nNOTE: Do not count spaces or hyphens. For example, \\n342 (three hundred and forty-two) contains 23 letters and \\n115 (one hundred and fifteen) contains 20 letters. \\nThe use of \"and\" when writing out numbers is in compliance with British usage.\\n\\n'"
      ]
     },
     "execution_count": 1,
     "metadata": {},
     "output_type": "execute_result"
    }
   ],
   "source": [
    "'''\n",
    "Number letter counts\n",
    "\n",
    "Problem 17 \n",
    "\n",
    "If the numbers 1 to 5 are written out in words: one, two, three, four, five, \n",
    "then there are 3 + 3 + 5 + 4 + 4 = 19 letters used in total.\n",
    "\n",
    "If all the numbers from 1 to 1000 (one thousand) inclusive were written out in words, \n",
    "how many letters would be used?\n",
    "\n",
    "NOTE: Do not count spaces or hyphens. For example, \n",
    "342 (three hundred and forty-two) contains 23 letters and \n",
    "115 (one hundred and fifteen) contains 20 letters. \n",
    "The use of \"and\" when writing out numbers is in compliance with British usage.\n",
    "\n",
    "'''"
   ]
  },
  {
   "cell_type": "code",
   "execution_count": 11,
   "metadata": {},
   "outputs": [],
   "source": [
    "ones = [\n",
    "    '',\n",
    "    'one',\n",
    "    'two',\n",
    "    'three',\n",
    "    'four',\n",
    "    'five',\n",
    "    'six',\n",
    "    'seven',\n",
    "    'eight',\n",
    "    'nine']"
   ]
  },
  {
   "cell_type": "code",
   "execution_count": 12,
   "metadata": {},
   "outputs": [],
   "source": [
    "teens = [\n",
    "    'ten',\n",
    "    'eleven',\n",
    "    'twelve',\n",
    "    'thirteen',\n",
    "    'fourteen',\n",
    "    'fifteen',\n",
    "    'sixteen',\n",
    "    'seventeen',\n",
    "    'eighteen',\n",
    "    'nineteen']"
   ]
  },
  {
   "cell_type": "code",
   "execution_count": 13,
   "metadata": {},
   "outputs": [],
   "source": [
    "tens = [\n",
    "    '',\n",
    "    'ten',\n",
    "    'twenty',\n",
    "    'thirty',\n",
    "    'fourty',\n",
    "    'fifty',\n",
    "    'sixty',\n",
    "    'seventy',\n",
    "    'eighty',\n",
    "    'ninty']"
   ]
  },
  {
   "cell_type": "code",
   "execution_count": 14,
   "metadata": {},
   "outputs": [],
   "source": [
    "hundreds = [\n",
    "    '',\n",
    "    'one hundred',\n",
    "    'two hundred',\n",
    "    'three hundred',\n",
    "    'four hundred',\n",
    "    'five hundred',\n",
    "    'six hundred',\n",
    "    'seven hundred',\n",
    "    'eight hundred',\n",
    "    'nine hundred']"
   ]
  },
  {
   "cell_type": "code",
   "execution_count": 15,
   "metadata": {},
   "outputs": [],
   "source": [
    " def build_words(sample):\n",
    "    letters = 0\n",
    "    words = ''\n",
    "    \n",
    "    thousand = sample // 1000\n",
    "    if 0 != thousand:\n",
    "        return 'one thousand'\n",
    "    \n",
    "    hundred = sample // 100\n",
    "    if 0 != hundred:\n",
    "        words += ' ' + hundreds[hundred]\n",
    "        if(sample%100) or (sample%10):\n",
    "            words += ' ' + 'and'\n",
    "\n",
    "    ten = (sample%100) // 10\n",
    "    if ten and ten > 1:\n",
    "        words += ' ' + tens[ten]\n",
    "\n",
    "    one = (sample%10)\n",
    "    if 0 != ones:\n",
    "        if ten==1:\n",
    "            words += ' ' + teens[one]\n",
    "        else:\n",
    "            words += ' ' + ones[one]\n",
    "\n",
    "    return words"
   ]
  },
  {
   "cell_type": "code",
   "execution_count": 16,
   "metadata": {},
   "outputs": [
    {
     "name": "stdout",
     "output_type": "stream",
     "text": [
      "21124\n",
      "21124\n"
     ]
    }
   ],
   "source": [
    "import itertools as it\n",
    "import functools as ft\n",
    "import operator\n",
    "\n",
    "sample = 1000  # 21124\n",
    "letters = 0\n",
    "\n",
    "word_list = [len((build_words(i).replace(\" \",\"\"))) for i in range(1,sample+1)]\n",
    "\n",
    "print (ft.reduce(lambda a,b : a+b,word_list)) \n",
    "print (ft.reduce(operator.add,word_list)) \n",
    "\n"
   ]
  },
  {
   "cell_type": "code",
   "execution_count": null,
   "metadata": {},
   "outputs": [],
   "source": []
  },
  {
   "cell_type": "code",
   "execution_count": null,
   "metadata": {},
   "outputs": [],
   "source": []
  }
 ],
 "metadata": {
  "kernelspec": {
   "display_name": "Python 3",
   "language": "python",
   "name": "python3"
  },
  "language_info": {
   "codemirror_mode": {
    "name": "ipython",
    "version": 3
   },
   "file_extension": ".py",
   "mimetype": "text/x-python",
   "name": "python",
   "nbconvert_exporter": "python",
   "pygments_lexer": "ipython3",
   "version": "3.6.6"
  }
 },
 "nbformat": 4,
 "nbformat_minor": 2
}
