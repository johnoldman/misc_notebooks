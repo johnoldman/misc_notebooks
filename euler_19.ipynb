{
 "cells": [
  {
   "cell_type": "code",
   "execution_count": 1,
   "metadata": {},
   "outputs": [
    {
     "data": {
      "text/plain": [
       "'\\nCounting Sundays\\nProblem 19 \\nYou are given the following information, but you may prefer to do some research for yourself.\\n\\n1 Jan 1900 was a Monday.\\nThirty days has September,\\nApril, June and November.\\nAll the rest have thirty-one,\\nSaving February alone,\\nWhich has twenty-eight, rain or shine.\\nAnd on leap years, twenty-nine.\\nA leap year occurs on any year evenly divisible by 4, but not on a century unless it is divisible by 400.\\nHow many Sundays fell on the first of the month during the twentieth century (1 Jan 1901 to 31 Dec 2000)?\\n\\n'"
      ]
     },
     "execution_count": 1,
     "metadata": {},
     "output_type": "execute_result"
    }
   ],
   "source": [
    "'''\n",
    "Counting Sundays\n",
    "Problem 19 \n",
    "You are given the following information, but you may prefer to do some research for yourself.\n",
    "\n",
    "1 Jan 1900 was a Monday.\n",
    "Thirty days has September,\n",
    "April, June and November.\n",
    "All the rest have thirty-one,\n",
    "Saving February alone,\n",
    "Which has twenty-eight, rain or shine.\n",
    "And on leap years, twenty-nine.\n",
    "A leap year occurs on any year evenly divisible by 4, but not on a century unless it is divisible by 400.\n",
    "How many Sundays fell on the first of the month during the twentieth century (1 Jan 1901 to 31 Dec 2000)?\n",
    "\n",
    "'''"
   ]
  },
  {
   "cell_type": "code",
   "execution_count": 36,
   "metadata": {},
   "outputs": [],
   "source": [
    "import calendar\n",
    "import functools as ft"
   ]
  },
  {
   "cell_type": "code",
   "execution_count": 80,
   "metadata": {},
   "outputs": [
    {
     "name": "stdout",
     "output_type": "stream",
     "text": [
      "171\n"
     ]
    }
   ],
   "source": [
    "day = 1 # first day of month\n",
    "sundays = 0\n",
    "\n",
    "for year in range(1901, 2000+1):\n",
    "    for month in range(1, 12+1):\n",
    "        if 6 == calendar.weekday(year, month, day):\n",
    "            sundays += 1\n",
    "print(sundays)\n",
    "\n",
    "\n",
    "\n",
    "\n",
    "#print (ft.reduce(lambda a,b : a+b,word_list)) \n",
    "\n",
    "#print(ft.reduce(   ))\n",
    "\n",
    "\n"
   ]
  },
  {
   "cell_type": "code",
   "execution_count": null,
   "metadata": {},
   "outputs": [],
   "source": []
  }
 ],
 "metadata": {
  "kernelspec": {
   "display_name": "Python 3",
   "language": "python",
   "name": "python3"
  },
  "language_info": {
   "codemirror_mode": {
    "name": "ipython",
    "version": 3
   },
   "file_extension": ".py",
   "mimetype": "text/x-python",
   "name": "python",
   "nbconvert_exporter": "python",
   "pygments_lexer": "ipython3",
   "version": "3.6.6"
  }
 },
 "nbformat": 4,
 "nbformat_minor": 2
}
