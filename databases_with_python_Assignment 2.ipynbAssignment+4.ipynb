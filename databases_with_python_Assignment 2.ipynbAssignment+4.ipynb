{
 "cells": [
  {
   "cell_type": "code",
   "execution_count": 6,
   "metadata": {
    "collapsed": false
   },
   "outputs": [
    {
     "data": {
      "text/plain": [
       "'\\n\\n_You are currently looking at **version 1.1** of this notebook. To download notebooks and datafiles, as well as get help on Jupyter notebooks in the Coursera platform, visit the [Jupyter Notebook FAQ](https://www.coursera.org/learn/python-data-analysis/resources/0dhYG) course resource._\\n\\n'"
      ]
     },
     "execution_count": 6,
     "metadata": {},
     "output_type": "execute_result"
    }
   ],
   "source": [
    "'''\n",
    "\n",
    "_You are currently looking at **version 1.1** of this notebook. To download notebooks and datafiles, as well as get help on Jupyter notebooks in the Coursera platform, visit the [Jupyter Notebook FAQ](https://www.coursera.org/learn/python-data-analysis/resources/0dhYG) course resource._\n",
    "\n",
    "'''"
   ]
  },
  {
   "cell_type": "code",
   "execution_count": 4,
   "metadata": {
    "collapsed": true
   },
   "outputs": [],
   "source": [
    "import pandas as pd\n",
    "import numpy as np\n",
    "from scipy.stats import ttest_ind"
   ]
  },
  {
   "cell_type": "markdown",
   "metadata": {},
   "source": [
    "# Assignment 4 - Hypothesis Testing\n",
    "This assignment requires more individual learning than previous assignments - you are encouraged to check out the [pandas documentation](http://pandas.pydata.org/pandas-docs/stable/) to find functions or methods you might not have used yet, or ask questions on [Stack Overflow](http://stackoverflow.com/) and tag them as pandas and python related. And of course, the discussion forums are open for interaction with your peers and the course staff.\n",
    "\n",
    "Definitions:\n",
    "* A _quarter_ is a specific three month period, Q1 is January through March, Q2 is April through June, Q3 is July through September, Q4 is October through December.\n",
    "* A _recession_ is defined as starting with two consecutive quarters of GDP decline, and ending with two consecutive quarters of GDP growth.\n",
    "* A _recession bottom_ is the quarter within a recession which had the lowest GDP.\n",
    "* A _university town_ is a city which has a high percentage of university students compared to the total population of the city.\n",
    "\n",
    "**Hypothesis**: University towns have their mean housing prices less effected by recessions. Run a t-test to compare the ratio of the mean price of houses in university towns the quarter before the recession starts compared to the recession bottom. (`price_ratio=quarter_before_recession/recession_bottom`)\n",
    "\n",
    "The following data files are available for this assignment:\n",
    "* From the [Zillow research data site](http://www.zillow.com/research/data/) there is housing data for the United States. In particular the datafile for [all homes at a city level](http://files.zillowstatic.com/research/public/City/City_Zhvi_AllHomes.csv), ```City_Zhvi_AllHomes.csv```, has median home sale prices at a fine grained level.\n",
    "* From the Wikipedia page on college towns is a list of [university towns in the United States](https://en.wikipedia.org/wiki/List_of_college_towns#College_towns_in_the_United_States) which has been copy and pasted into the file ```university_towns.txt```.\n",
    "* From Bureau of Economic Analysis, US Department of Commerce, the [GDP over time](http://www.bea.gov/national/index.htm#gdp) of the United States in current dollars (use the chained value in 2009 dollars), in quarterly intervals, in the file ```gdplev.xls```. For this assignment, only look at GDP data from the first quarter of 2000 onward.\n",
    "\n",
    "Each function in this assignment below is worth 10%, with the exception of ```run_ttest()```, which is worth 50%."
   ]
  },
  {
   "cell_type": "code",
   "execution_count": null,
   "metadata": {
    "collapsed": false
   },
   "outputs": [],
   "source": [
    "# Use this dictionary to map state names to two letter acronyms\n",
    "states = {'OH': 'Ohio', 'KY': 'Kentucky', 'AS': 'American Samoa', 'NV': 'Nevada', 'WY': 'Wyoming', 'NA': 'National', 'AL': 'Alabama', 'MD': 'Maryland', 'AK': 'Alaska', 'UT': 'Utah', 'OR': 'Oregon', 'MT': 'Montana', 'IL': 'Illinois', 'TN': 'Tennessee', 'DC': 'District of Columbia', 'VT': 'Vermont', 'ID': 'Idaho', 'AR': 'Arkansas', 'ME': 'Maine', 'WA': 'Washington', 'HI': 'Hawaii', 'WI': 'Wisconsin', 'MI': 'Michigan', 'IN': 'Indiana', 'NJ': 'New Jersey', 'AZ': 'Arizona', 'GU': 'Guam', 'MS': 'Mississippi', 'PR': 'Puerto Rico', 'NC': 'North Carolina', 'TX': 'Texas', 'SD': 'South Dakota', 'MP': 'Northern Mariana Islands', 'IA': 'Iowa', 'MO': 'Missouri', 'CT': 'Connecticut', 'WV': 'West Virginia', 'SC': 'South Carolina', 'LA': 'Louisiana', 'KS': 'Kansas', 'NY': 'New York', 'NE': 'Nebraska', 'OK': 'Oklahoma', 'FL': 'Florida', 'CA': 'California', 'CO': 'Colorado', 'PA': 'Pennsylvania', 'DE': 'Delaware', 'NM': 'New Mexico', 'RI': 'Rhode Island', 'MN': 'Minnesota', 'VI': 'Virgin Islands', 'NH': 'New Hampshire', 'MA': 'Massachusetts', 'GA': 'Georgia', 'ND': 'North Dakota', 'VA': 'Virginia'}"
   ]
  },
  {
   "cell_type": "code",
   "execution_count": 8,
   "metadata": {
    "collapsed": false
   },
   "outputs": [],
   "source": [
    "def get_list_of_university_towns():\n",
    "    '''Returns a DataFrame of towns and the states they are in from the \n",
    "    university_towns.txt list. The format of the DataFrame should be:\n",
    "    DataFrame( [ [\"Michigan\", \"Ann Arbor\"], [\"Michigan\", \"Yipsilanti\"] ], \n",
    "    columns=[\"State\", \"RegionName\"]  )\n",
    "    \n",
    "    The following cleaning needs to be done:\n",
    "\n",
    "    1. For \"State\", removing characters from \"[\" to the end.\n",
    "    2. For \"RegionName\", when applicable, removing every character from \" (\" to the end.\n",
    "    3. Depending on how you read the data, you may need to remove newline character '\\n'. '''\n",
    "        \n",
    "    # import university_towns\n",
    "    in_file = open('university_towns.txt', 'r')\n",
    "    towns = []\n",
    "    index = 0\n",
    "    \n",
    "    for line in in_file:\n",
    "        if \"[edit]\" in line:\n",
    "            # we are at start of state section\n",
    "            current_state = line.split(\"[\")[0]\n",
    "        else:\n",
    "            # now we are in town section, append state and town\n",
    "            town = line.split(\"(\")[0].strip()\n",
    "            towns.append([current_state, town])\n",
    "\n",
    "    df = pd.DataFrame(towns)\n",
    "    df.columns = [\"State\", \"RegionName\"]\n",
    "    return df\n",
    "\n",
    "\n",
    "get_list_of_university_towns()\n",
    "\n",
    "\n",
    "def test_get_list_of_university_towns():\n",
    "    '''\n",
    "    output should be in both cases\n",
    "    Empty DataFrame\n",
    "    Columns: [State, RegionName]\n",
    "    Index: []\n",
    "    '''\n",
    "    df = get_list_of_university_towns()\n",
    "    print (df[df['State'].str.contains('\\n') | df['RegionName'].str.contains('\\n')])\n",
    "    print(df[df['State'].str.contains('\\s$',regex=True) | df['RegionName'].str.contains('\\s$',regex=True)])\n",
    "\n",
    "#test_get_list_of_university_towns()\n",
    "\n"
   ]
  },
  {
   "cell_type": "code",
   "execution_count": 9,
   "metadata": {
    "collapsed": false
   },
   "outputs": [
    {
     "data": {
      "text/plain": [
       "'2008q3'"
      ]
     },
     "execution_count": 9,
     "metadata": {},
     "output_type": "execute_result"
    }
   ],
   "source": [
    "def get_gdp():\n",
    "    gdp_excel = pd.ExcelFile('gdplev.xls')\n",
    "    gdp = gdp_excel.parse('Sheet1')\n",
    "    # get rid of footer\n",
    "    gdp = gdp.drop(gdp.index[288:])\n",
    "    # get rid of header\n",
    "    # only look at GDP data from the first quarter of 2000 onward.\n",
    "    gdp = gdp.drop(gdp.index[0:219])    \n",
    "    # get rid of unwanted columns\n",
    "    gdp = gdp.drop('Current-Dollar and \"Real\" Gross Domestic Product', 1)\n",
    "    gdp = gdp.drop('Unnamed: 5', 1)\n",
    "    gdp = gdp.drop(gdp.ix[:,'Unnamed: 1':'Unnamed: 3'].head(0).columns, axis=1)\n",
    "    # change the column labels\n",
    "    gdp.columns = ['Quater', 'GDP', 'Temp']\n",
    "    gdp = gdp.drop('Temp', 1)\n",
    "    #gdp.reset_index()\n",
    "    return gdp\n",
    "\n",
    "\n",
    "\n",
    "\n",
    "def get_recession_start():\n",
    "    '''Returns the year and quarter of the recession start time as a \n",
    "    string value in a format such as 2005q3'''\n",
    "    \n",
    "    gdp = get_gdp()\n",
    "    \n",
    "    gdp_prev_1 = pd.Series(['', 0.0], index=['Quater', 'GDP'])\n",
    "    gdp_prev_2 = pd.Series(['', 0.0], index=['Quater', 'GDP'])\n",
    "    \n",
    "    # step through quarters to find resession\n",
    "    for index, row in gdp.iterrows():\n",
    "        # ressesion is defined as starting with two consecutive quarters of GDP decline,\n",
    "        if (row['GDP'] < gdp_prev_1['GDP']) and (gdp_prev_1['GDP'] < gdp_prev_2['GDP']):\n",
    "           return gdp_prev_1['Quater']\n",
    "        # set history\n",
    "        gdp_prev_2 = gdp_prev_1\n",
    "        gdp_prev_1 = row\n",
    "    \n",
    "    return 'ERROR'\n",
    "                 \n",
    "\n",
    "get_recession_start()"
   ]
  },
  {
   "cell_type": "code",
   "execution_count": 10,
   "metadata": {
    "collapsed": false
   },
   "outputs": [
    {
     "data": {
      "text/plain": [
       "'2009q4'"
      ]
     },
     "execution_count": 10,
     "metadata": {},
     "output_type": "execute_result"
    }
   ],
   "source": [
    "def get_recession_end():\n",
    "    '''Returns the year and quarter of the recession end time as a \n",
    "    string value in a format such as 2005q3'''\n",
    "    gdp = get_gdp()\n",
    "    \n",
    "    gdp_prev_1 = pd.Series(['', 0.0], index=['Quater', 'GDP'])\n",
    "    gdp_prev_2 = pd.Series(['', 0.0], index=['Quater', 'GDP'])\n",
    "    \n",
    "    in_ressession = False\n",
    "    \n",
    "    # step through quarters to find resession start and end\n",
    "    for index, row in gdp.iterrows():\n",
    "        if in_ressession == False:\n",
    "            # ressesion is defined as starting with two consecutive quarters of GDP decline,\n",
    "            if (row['GDP'] < gdp_prev_1['GDP']) and (gdp_prev_1['GDP'] < gdp_prev_2['GDP']):\n",
    "               in_ressession = True\n",
    "        else:\n",
    "            # now we are in ressession, look for end\n",
    "            # recession is defined as ending after two consecutive quarters of GDP growth.\n",
    "            if (row['GDP'] > gdp_prev_1['GDP']) and (gdp_prev_1['GDP'] > gdp_prev_2['GDP']):\n",
    "                return row['Quater'] \n",
    "            \n",
    "        # set history\n",
    "        gdp_prev_2 = gdp_prev_1\n",
    "        gdp_prev_1 = row\n",
    "    \n",
    "    return 'ERROR'\n",
    "\n",
    "\n",
    "get_recession_end()    \n"
   ]
  },
  {
   "cell_type": "code",
   "execution_count": 11,
   "metadata": {
    "collapsed": false
   },
   "outputs": [
    {
     "data": {
      "text/plain": [
       "'2009q2'"
      ]
     },
     "execution_count": 11,
     "metadata": {},
     "output_type": "execute_result"
    }
   ],
   "source": [
    "def get_recession_bottom():\n",
    "    '''Returns the year and quarter of the recession bottom time as a \n",
    "    string value in a format such as 2005q3'''\n",
    "\n",
    "    gdp = get_gdp()\n",
    "\n",
    "    # get start and end fo ressession\n",
    "    r_start = get_recession_start()\n",
    "    r_end   = get_recession_end()\n",
    "    \n",
    "    gdp = gdp.set_index('Quater')\n",
    "    \n",
    "    # make ressession frame\n",
    "    resession = gdp.loc[r_start : r_end]\n",
    "\n",
    "    # A recession bottom is the quarter within a recession which had the lowest GDP.\n",
    "    # sort the ressession frame to get lowest GDP\n",
    "    return resession['GDP'].sort_values(ascending=True).index[0]\n",
    "    \n",
    "\n",
    "\n",
    "\n",
    "get_recession_bottom()"
   ]
  },
  {
   "cell_type": "code",
   "execution_count": 12,
   "metadata": {
    "collapsed": false
   },
   "outputs": [
    {
     "ename": "DateParseError",
     "evalue": "Unknown datetime string format, unable to parse: REGIONID",
     "output_type": "error",
     "traceback": [
      "\u001b[0;31m--------------------------------------------------------------------------\u001b[0m",
      "\u001b[0;31mValueError\u001b[0m                               Traceback (most recent call last)",
      "\u001b[0;32mC:\\Program Files\\Anaconda3\\lib\\site-packages\\pandas\\tseries\\period.py\u001b[0m in \u001b[0;36m_from_arraylike\u001b[0;34m(cls, data, freq, tz)\u001b[0m\n\u001b[1;32m    224\u001b[0m             \u001b[1;32mtry\u001b[0m\u001b[1;33m:\u001b[0m\u001b[1;33m\u001b[0m\u001b[0m\n\u001b[0;32m--> 225\u001b[0;31m                 \u001b[0mdata\u001b[0m \u001b[1;33m=\u001b[0m \u001b[0mcom\u001b[0m\u001b[1;33m.\u001b[0m\u001b[0m_ensure_int64\u001b[0m\u001b[1;33m(\u001b[0m\u001b[0mdata\u001b[0m\u001b[1;33m)\u001b[0m\u001b[1;33m\u001b[0m\u001b[0m\n\u001b[0m\u001b[1;32m    226\u001b[0m                 \u001b[1;32mif\u001b[0m \u001b[0mfreq\u001b[0m \u001b[1;32mis\u001b[0m \u001b[1;32mNone\u001b[0m\u001b[1;33m:\u001b[0m\u001b[1;33m\u001b[0m\u001b[0m\n",
      "\u001b[0;32mpandas\\src\\generated.pyx\u001b[0m in \u001b[0;36mpandas.algos.ensure_int64 (pandas\\algos.c:64659)\u001b[0;34m()\u001b[0m\n",
      "\u001b[0;32mpandas\\src\\generated.pyx\u001b[0m in \u001b[0;36mpandas.algos.ensure_int64 (pandas\\algos.c:64607)\u001b[0;34m()\u001b[0m\n",
      "\u001b[0;31mValueError\u001b[0m: invalid literal for int() with base 10: 'RegionID'",
      "\nDuring handling of the above exception, another exception occurred:\n",
      "\u001b[0;31mValueError\u001b[0m                               Traceback (most recent call last)",
      "\u001b[0;32mpandas\\tslib.pyx\u001b[0m in \u001b[0;36mpandas.tslib.parse_datetime_string_with_reso (pandas\\tslib.c:32198)\u001b[0;34m()\u001b[0m\n",
      "\u001b[0;32mpandas\\tslib.pyx\u001b[0m in \u001b[0;36mpandas.tslib.dateutil_parse (pandas\\tslib.c:34509)\u001b[0;34m()\u001b[0m\n",
      "\u001b[0;31mValueError\u001b[0m: Unknown datetime string format, unable to parse: REGIONID",
      "\nDuring handling of the above exception, another exception occurred:\n",
      "\u001b[0;31mDateParseError\u001b[0m                           Traceback (most recent call last)",
      "\u001b[0;32m<ipython-input-12-27d97ba2050d>\u001b[0m in \u001b[0;36m<module>\u001b[0;34m()\u001b[0m\n\u001b[1;32m    141\u001b[0m \u001b[1;33m\u001b[0m\u001b[0m\n\u001b[1;32m    142\u001b[0m \u001b[1;31m#convert_housing_data_to_quarters().head()\u001b[0m\u001b[1;33m\u001b[0m\u001b[1;33m\u001b[0m\u001b[0m\n\u001b[0;32m--> 143\u001b[0;31m \u001b[0mconvert_housing_data_to_quarters\u001b[0m\u001b[1;33m(\u001b[0m\u001b[1;33m)\u001b[0m\u001b[1;33m\u001b[0m\u001b[0m\n\u001b[0m",
      "\u001b[0;32m<ipython-input-12-27d97ba2050d>\u001b[0m in \u001b[0;36mconvert_housing_data_to_quarters\u001b[0;34m()\u001b[0m\n\u001b[1;32m    121\u001b[0m     \u001b[1;31m# try this\u001b[0m\u001b[1;33m\u001b[0m\u001b[1;33m\u001b[0m\u001b[0m\n\u001b[1;32m    122\u001b[0m     \u001b[1;31m#houses.groupby(pd.PeriodIndex(houses.columns, freq='Q'), axis=1).mean()\u001b[0m\u001b[1;33m\u001b[0m\u001b[1;33m\u001b[0m\u001b[0m\n\u001b[0;32m--> 123\u001b[0;31m     \u001b[0mhouses\u001b[0m\u001b[1;33m.\u001b[0m\u001b[0mgroupby\u001b[0m\u001b[1;33m(\u001b[0m\u001b[0mpd\u001b[0m\u001b[1;33m.\u001b[0m\u001b[0mPeriodIndex\u001b[0m\u001b[1;33m(\u001b[0m\u001b[0mhouses\u001b[0m\u001b[1;33m.\u001b[0m\u001b[0mcolumns\u001b[0m\u001b[1;33m,\u001b[0m \u001b[0mfreq\u001b[0m\u001b[1;33m=\u001b[0m\u001b[1;34m'Q'\u001b[0m\u001b[1;33m)\u001b[0m\u001b[1;33m,\u001b[0m \u001b[0maxis\u001b[0m\u001b[1;33m=\u001b[0m\u001b[1;36m1\u001b[0m\u001b[1;33m)\u001b[0m\u001b[1;33m.\u001b[0m\u001b[0mmean\u001b[0m\u001b[1;33m(\u001b[0m\u001b[1;33m)\u001b[0m\u001b[1;33m\u001b[0m\u001b[0m\n\u001b[0m\u001b[1;32m    124\u001b[0m \u001b[1;33m\u001b[0m\u001b[0m\n\u001b[1;32m    125\u001b[0m     \u001b[1;31m#In [60]: pd.PeriodIndex(df['date'], freq='Q')\u001b[0m\u001b[1;33m\u001b[0m\u001b[1;33m\u001b[0m\u001b[0m\n",
      "\u001b[0;32mC:\\Program Files\\Anaconda3\\lib\\site-packages\\pandas\\tseries\\period.py\u001b[0m in \u001b[0;36m__new__\u001b[0;34m(cls, data, ordinal, freq, start, end, periods, copy, name, tz, **kwargs)\u001b[0m\n\u001b[1;32m    188\u001b[0m                                                  freq, kwargs)\n\u001b[1;32m    189\u001b[0m         \u001b[1;32melse\u001b[0m\u001b[1;33m:\u001b[0m\u001b[1;33m\u001b[0m\u001b[0m\n\u001b[0;32m--> 190\u001b[0;31m             \u001b[0mordinal\u001b[0m\u001b[1;33m,\u001b[0m \u001b[0mfreq\u001b[0m \u001b[1;33m=\u001b[0m \u001b[0mcls\u001b[0m\u001b[1;33m.\u001b[0m\u001b[0m_from_arraylike\u001b[0m\u001b[1;33m(\u001b[0m\u001b[0mdata\u001b[0m\u001b[1;33m,\u001b[0m \u001b[0mfreq\u001b[0m\u001b[1;33m,\u001b[0m \u001b[0mtz\u001b[0m\u001b[1;33m)\u001b[0m\u001b[1;33m\u001b[0m\u001b[0m\n\u001b[0m\u001b[1;32m    191\u001b[0m             \u001b[0mdata\u001b[0m \u001b[1;33m=\u001b[0m \u001b[0mnp\u001b[0m\u001b[1;33m.\u001b[0m\u001b[0marray\u001b[0m\u001b[1;33m(\u001b[0m\u001b[0mordinal\u001b[0m\u001b[1;33m,\u001b[0m \u001b[0mdtype\u001b[0m\u001b[1;33m=\u001b[0m\u001b[0mnp\u001b[0m\u001b[1;33m.\u001b[0m\u001b[0mint64\u001b[0m\u001b[1;33m,\u001b[0m \u001b[0mcopy\u001b[0m\u001b[1;33m=\u001b[0m\u001b[1;32mFalse\u001b[0m\u001b[1;33m)\u001b[0m\u001b[1;33m\u001b[0m\u001b[0m\n\u001b[1;32m    192\u001b[0m \u001b[1;33m\u001b[0m\u001b[0m\n",
      "\u001b[0;32mC:\\Program Files\\Anaconda3\\lib\\site-packages\\pandas\\tseries\\period.py\u001b[0m in \u001b[0;36m_from_arraylike\u001b[0;34m(cls, data, freq, tz)\u001b[0m\n\u001b[1;32m    238\u001b[0m                                      'inferred from first element')\n\u001b[1;32m    239\u001b[0m \u001b[1;33m\u001b[0m\u001b[0m\n\u001b[0;32m--> 240\u001b[0;31m                 \u001b[0mdata\u001b[0m \u001b[1;33m=\u001b[0m \u001b[0m_get_ordinals\u001b[0m\u001b[1;33m(\u001b[0m\u001b[0mdata\u001b[0m\u001b[1;33m,\u001b[0m \u001b[0mfreq\u001b[0m\u001b[1;33m)\u001b[0m\u001b[1;33m\u001b[0m\u001b[0m\n\u001b[0m\u001b[1;32m    241\u001b[0m         \u001b[1;32melse\u001b[0m\u001b[1;33m:\u001b[0m\u001b[1;33m\u001b[0m\u001b[0m\n\u001b[1;32m    242\u001b[0m             \u001b[1;32mif\u001b[0m \u001b[0misinstance\u001b[0m\u001b[1;33m(\u001b[0m\u001b[0mdata\u001b[0m\u001b[1;33m,\u001b[0m \u001b[0mPeriodIndex\u001b[0m\u001b[1;33m)\u001b[0m\u001b[1;33m:\u001b[0m\u001b[1;33m\u001b[0m\u001b[0m\n",
      "\u001b[0;32mC:\\Program Files\\Anaconda3\\lib\\site-packages\\pandas\\tseries\\period.py\u001b[0m in \u001b[0;36m_get_ordinals\u001b[0;34m(data, freq)\u001b[0m\n\u001b[1;32m     44\u001b[0m         \u001b[1;32mreturn\u001b[0m \u001b[0mperiod\u001b[0m\u001b[1;33m.\u001b[0m\u001b[0mextract_ordinals\u001b[0m\u001b[1;33m(\u001b[0m\u001b[0mdata\u001b[0m\u001b[1;33m,\u001b[0m \u001b[0mfreq\u001b[0m\u001b[1;33m)\u001b[0m\u001b[1;33m\u001b[0m\u001b[0m\n\u001b[1;32m     45\u001b[0m     \u001b[1;32melse\u001b[0m\u001b[1;33m:\u001b[0m\u001b[1;33m\u001b[0m\u001b[0m\n\u001b[0;32m---> 46\u001b[0;31m         \u001b[1;32mreturn\u001b[0m \u001b[0mlib\u001b[0m\u001b[1;33m.\u001b[0m\u001b[0mmap_infer\u001b[0m\u001b[1;33m(\u001b[0m\u001b[0mdata\u001b[0m\u001b[1;33m,\u001b[0m \u001b[0mf\u001b[0m\u001b[1;33m)\u001b[0m\u001b[1;33m\u001b[0m\u001b[0m\n\u001b[0m\u001b[1;32m     47\u001b[0m \u001b[1;33m\u001b[0m\u001b[0m\n\u001b[1;32m     48\u001b[0m \u001b[1;33m\u001b[0m\u001b[0m\n",
      "\u001b[0;32mpandas\\src\\inference.pyx\u001b[0m in \u001b[0;36mpandas.lib.map_infer (pandas\\lib.c:62658)\u001b[0;34m()\u001b[0m\n",
      "\u001b[0;32mC:\\Program Files\\Anaconda3\\lib\\site-packages\\pandas\\tseries\\period.py\u001b[0m in \u001b[0;36m<lambda>\u001b[0;34m(x)\u001b[0m\n\u001b[1;32m     40\u001b[0m \u001b[1;33m\u001b[0m\u001b[0m\n\u001b[1;32m     41\u001b[0m \u001b[1;32mdef\u001b[0m \u001b[0m_get_ordinals\u001b[0m\u001b[1;33m(\u001b[0m\u001b[0mdata\u001b[0m\u001b[1;33m,\u001b[0m \u001b[0mfreq\u001b[0m\u001b[1;33m)\u001b[0m\u001b[1;33m:\u001b[0m\u001b[1;33m\u001b[0m\u001b[0m\n\u001b[0;32m---> 42\u001b[0;31m     \u001b[0mf\u001b[0m \u001b[1;33m=\u001b[0m \u001b[1;32mlambda\u001b[0m \u001b[0mx\u001b[0m\u001b[1;33m:\u001b[0m \u001b[0mPeriod\u001b[0m\u001b[1;33m(\u001b[0m\u001b[0mx\u001b[0m\u001b[1;33m,\u001b[0m \u001b[0mfreq\u001b[0m\u001b[1;33m=\u001b[0m\u001b[0mfreq\u001b[0m\u001b[1;33m)\u001b[0m\u001b[1;33m.\u001b[0m\u001b[0mordinal\u001b[0m\u001b[1;33m\u001b[0m\u001b[0m\n\u001b[0m\u001b[1;32m     43\u001b[0m     \u001b[1;32mif\u001b[0m \u001b[0misinstance\u001b[0m\u001b[1;33m(\u001b[0m\u001b[0mdata\u001b[0m\u001b[1;33m[\u001b[0m\u001b[1;36m0\u001b[0m\u001b[1;33m]\u001b[0m\u001b[1;33m,\u001b[0m \u001b[0mPeriod\u001b[0m\u001b[1;33m)\u001b[0m\u001b[1;33m:\u001b[0m\u001b[1;33m\u001b[0m\u001b[0m\n\u001b[1;32m     44\u001b[0m         \u001b[1;32mreturn\u001b[0m \u001b[0mperiod\u001b[0m\u001b[1;33m.\u001b[0m\u001b[0mextract_ordinals\u001b[0m\u001b[1;33m(\u001b[0m\u001b[0mdata\u001b[0m\u001b[1;33m,\u001b[0m \u001b[0mfreq\u001b[0m\u001b[1;33m)\u001b[0m\u001b[1;33m\u001b[0m\u001b[0m\n",
      "\u001b[0;32mpandas\\src\\period.pyx\u001b[0m in \u001b[0;36mpandas._period.Period.__init__ (pandas\\src\\period.c:11597)\u001b[0;34m()\u001b[0m\n",
      "\u001b[0;32mC:\\Program Files\\Anaconda3\\lib\\site-packages\\pandas\\tseries\\tools.py\u001b[0m in \u001b[0;36mparse_time_string\u001b[0;34m(arg, freq, dayfirst, yearfirst)\u001b[0m\n\u001b[1;32m    635\u001b[0m     return tslib.parse_datetime_string_with_reso(arg, freq=freq,\n\u001b[1;32m    636\u001b[0m                                                  \u001b[0mdayfirst\u001b[0m\u001b[1;33m=\u001b[0m\u001b[0mdayfirst\u001b[0m\u001b[1;33m,\u001b[0m\u001b[1;33m\u001b[0m\u001b[0m\n\u001b[0;32m--> 637\u001b[0;31m                                                  yearfirst=yearfirst)\n\u001b[0m\u001b[1;32m    638\u001b[0m \u001b[1;33m\u001b[0m\u001b[0m\n\u001b[1;32m    639\u001b[0m \u001b[1;33m\u001b[0m\u001b[0m\n",
      "\u001b[0;32mpandas\\tslib.pyx\u001b[0m in \u001b[0;36mpandas.tslib.parse_datetime_string_with_reso (pandas\\tslib.c:32330)\u001b[0;34m()\u001b[0m\n",
      "\u001b[0;31mDateParseError\u001b[0m: Unknown datetime string format, unable to parse: REGIONID"
     ]
    }
   ],
   "source": [
    "import pandas as pd\n",
    "import numpy as np\n",
    "\n",
    "# Use this dictionary to map state names to two letter acronyms\n",
    "states = {'OH': 'Ohio', 'KY': 'Kentucky', 'AS': 'American Samoa', 'NV': 'Nevada', 'WY': 'Wyoming', 'NA': 'National', 'AL': 'Alabama', 'MD': 'Maryland', 'AK': 'Alaska', 'UT': 'Utah', 'OR': 'Oregon', 'MT': 'Montana', 'IL': 'Illinois', 'TN': 'Tennessee', 'DC': 'District of Columbia', 'VT': 'Vermont', 'ID': 'Idaho', 'AR': 'Arkansas', 'ME': 'Maine', 'WA': 'Washington', 'HI': 'Hawaii', 'WI': 'Wisconsin', 'MI': 'Michigan', 'IN': 'Indiana', 'NJ': 'New Jersey', 'AZ': 'Arizona', 'GU': 'Guam', 'MS': 'Mississippi', 'PR': 'Puerto Rico', 'NC': 'North Carolina', 'TX': 'Texas', 'SD': 'South Dakota', 'MP': 'Northern Mariana Islands', 'IA': 'Iowa', 'MO': 'Missouri', 'CT': 'Connecticut', 'WV': 'West Virginia', 'SC': 'South Carolina', 'LA': 'Louisiana', 'KS': 'Kansas', 'NY': 'New York', 'NE': 'Nebraska', 'OK': 'Oklahoma', 'FL': 'Florida', 'CA': 'California', 'CO': 'Colorado', 'PA': 'Pennsylvania', 'DE': 'Delaware', 'NM': 'New Mexico', 'RI': 'Rhode Island', 'MN': 'Minnesota', 'VI': 'Virgin Islands', 'NH': 'New Hampshire', 'MA': 'Massachusetts', 'GA': 'Georgia', 'ND': 'North Dakota', 'VA': 'Virginia'}\n",
    "\n",
    "\n",
    "def convert_housing_data_to_quarters():\n",
    "    '''Converts the housing data to quarters and returns it as mean \n",
    "    values in a dataframe. This dataframe should be a dataframe with\n",
    "    columns for 2000q1 through 2016q3, and should have a multi-index\n",
    "    in the shape of [\"State\",\"RegionName\"].\n",
    "    \n",
    "    Note: Quarters are defined in the assignment description, they are\n",
    "    not arbitrary three month periods.\n",
    "    \n",
    "    The resulting dataframe should have 67 columns, and 10,730 rows.\n",
    "    '''\n",
    "    \n",
    "    # import housing data\n",
    "    houses = pd.read_csv('City_Zhvi_AllHomes.csv')  \n",
    "    \n",
    "    # remove unwanted columns\n",
    "    cols = [c for c in houses.columns if c.lower()[:3] != '199']    \n",
    "    houses = houses[cols]\n",
    "    \n",
    "    cols = [c for c in houses.columns if c.lower()[:2] == '20']  \n",
    "    tdf = houses[cols]\n",
    "    \n",
    "    tdf = pd.to_datetime('2008-06-12')\n",
    "    \n",
    "    #THIS IS TERRIBLE CODE:\n",
    "    \n",
    "    # set up quaters data\n",
    "    \n",
    "    '''houses['2000q1'] = houses[['2000-01', '2000-02', '2000-03']].mean(axis=1)\n",
    "    houses['2000q2'] = houses[['2000-04', '2000-05', '2000-06']].mean(axis=1)\n",
    "    houses['2000q3'] = houses[['2000-07', '2000-08', '2000-09']].mean(axis=1)\n",
    "    houses['2000q4'] = houses[['2000-10', '2000-11', '2000-12']].mean(axis=1)\n",
    "\n",
    "    houses['2001q1'] = houses[['2001-01', '2001-02', '2001-03']].mean(axis=1)\n",
    "    houses['2001q2'] = houses[['2001-04', '2001-05', '2001-06']].mean(axis=1)\n",
    "    houses['2001q3'] = houses[['2001-07', '2001-08', '2001-09']].mean(axis=1)\n",
    "    houses['2001q4'] = houses[['2001-10', '2001-11', '2001-12']].mean(axis=1)\n",
    "\n",
    "    houses['2002q1'] = houses[['2002-01', '2002-02', '2002-03']].mean(axis=1)\n",
    "    houses['2002q2'] = houses[['2002-04', '2002-05', '2002-06']].mean(axis=1)\n",
    "    houses['2002q3'] = houses[['2002-07', '2002-08', '2002-09']].mean(axis=1)\n",
    "    houses['2002q4'] = houses[['2002-10', '2002-11', '2002-12']].mean(axis=1)\n",
    "\n",
    "    houses['2003q1'] = houses[['2003-01', '2003-02', '2003-03']].mean(axis=1)\n",
    "    houses['2003q2'] = houses[['2003-04', '2003-05', '2003-06']].mean(axis=1)\n",
    "    houses['2003q3'] = houses[['2003-07', '2003-08', '2003-09']].mean(axis=1)\n",
    "    houses['2003q4'] = houses[['2003-10', '2003-11', '2003-12']].mean(axis=1)\n",
    "\n",
    "    houses['2004q1'] = houses[['2004-01', '2004-02', '2004-03']].mean(axis=1)\n",
    "    houses['2004q2'] = houses[['2004-04', '2004-05', '2004-06']].mean(axis=1)\n",
    "    houses['2004q3'] = houses[['2004-07', '2004-08', '2004-09']].mean(axis=1)\n",
    "    houses['2004q4'] = houses[['2004-10', '2004-11', '2004-12']].mean(axis=1)\n",
    "\n",
    "    houses['2005q1'] = houses[['2005-01', '2005-02', '2005-03']].mean(axis=1)\n",
    "    houses['2005q2'] = houses[['2005-04', '2005-05', '2005-06']].mean(axis=1)\n",
    "    houses['2005q3'] = houses[['2005-07', '2005-08', '2005-09']].mean(axis=1)\n",
    "    houses['2005q4'] = houses[['2005-10', '2005-11', '2005-12']].mean(axis=1)\n",
    "\n",
    "    houses['2006q1'] = houses[['2006-01', '2006-02', '2006-03']].mean(axis=1)\n",
    "    houses['2006q2'] = houses[['2006-04', '2006-05', '2006-06']].mean(axis=1)\n",
    "    houses['2006q3'] = houses[['2006-07', '2006-08', '2006-09']].mean(axis=1)\n",
    "    houses['2006q4'] = houses[['2006-10', '2006-11', '2006-12']].mean(axis=1)\n",
    "\n",
    "    houses['2007q1'] = houses[['2007-01', '2007-02', '2007-03']].mean(axis=1)\n",
    "    houses['2007q2'] = houses[['2007-04', '2007-05', '2007-06']].mean(axis=1)\n",
    "    houses['2007q3'] = houses[['2007-07', '2007-08', '2007-09']].mean(axis=1)\n",
    "    houses['2007q4'] = houses[['2007-10', '2007-11', '2007-12']].mean(axis=1)\n",
    "\n",
    "    houses['2008q1'] = houses[['2008-01', '2008-02', '2008-03']].mean(axis=1)\n",
    "    houses['2008q2'] = houses[['2008-04', '2008-05', '2008-06']].mean(axis=1)\n",
    "    houses['2008q3'] = houses[['2008-07', '2008-08', '2008-09']].mean(axis=1)\n",
    "    houses['2008q4'] = houses[['2008-10', '2008-11', '2008-12']].mean(axis=1)\n",
    "\n",
    "    houses['2009q1'] = houses[['2009-01', '2009-02', '2009-03']].mean(axis=1)\n",
    "    houses['2009q2'] = houses[['2009-04', '2009-05', '2009-06']].mean(axis=1)\n",
    "    houses['2009q3'] = houses[['2009-07', '2009-08', '2009-09']].mean(axis=1)\n",
    "    houses['2009q4'] = houses[['2009-10', '2009-11', '2009-12']].mean(axis=1)\n",
    "    \n",
    "    houses['2010q1'] = houses[['2010-01', '2010-02', '2010-03']].mean(axis=1)\n",
    "    houses['2010q2'] = houses[['2010-04', '2010-05', '2010-06']].mean(axis=1)   \n",
    "    houses['2010q3'] = houses[['2010-07', '2010-08', '2010-09']].mean(axis=1)\n",
    "    houses['2010q4'] = houses[['2010-10', '2010-11', '2010-12']].mean(axis=1)\n",
    "\n",
    "    houses['2011q1'] = houses[['2011-01', '2011-02', '2011-03']].mean(axis=1)\n",
    "    houses['2011q2'] = houses[['2011-04', '2011-05', '2011-06']].mean(axis=1)\n",
    "    houses['2011q3'] = houses[['2011-07', '2011-08', '2011-09']].mean(axis=1)\n",
    "    houses['2011q4'] = houses[['2011-10', '2011-11', '2011-12']].mean(axis=1)\n",
    "\n",
    "    houses['2012q1'] = houses[['2012-01', '2012-02', '2012-03']].mean(axis=1)\n",
    "    houses['2012q2'] = houses[['2012-04', '2012-05', '2012-06']].mean(axis=1)\n",
    "    houses['2012q3'] = houses[['2012-07', '2012-08', '2012-09']].mean(axis=1)\n",
    "    houses['2012q4'] = houses[['2012-10', '2012-11', '2012-12']].mean(axis=1)\n",
    "\n",
    "    houses['2013q1'] = houses[['2013-01', '2013-02', '2013-03']].mean(axis=1)\n",
    "    houses['2013q2'] = houses[['2013-04', '2013-05', '2013-06']].mean(axis=1)\n",
    "    houses['2013q3'] = houses[['2013-07', '2013-08', '2013-09']].mean(axis=1)\n",
    "    houses['2013q4'] = houses[['2013-10', '2013-11', '2013-12']].mean(axis=1)\n",
    "\n",
    "    houses['2014q1'] = houses[['2014-01', '2014-02', '2014-03']].mean(axis=1)\n",
    "    houses['2014q2'] = houses[['2014-04', '2014-05', '2014-06']].mean(axis=1)\n",
    "    houses['2014q3'] = houses[['2014-07', '2014-08', '2014-09']].mean(axis=1)\n",
    "    houses['2014q4'] = houses[['2014-10', '2014-11', '2014-12']].mean(axis=1)\n",
    "\n",
    "    houses['2015q1'] = houses[['2015-01', '2015-02', '2015-03']].mean(axis=1)\n",
    "    houses['2015q2'] = houses[['2015-04', '2015-05', '2015-06']].mean(axis=1)\n",
    "    houses['2015q3'] = houses[['2015-07', '2015-08', '2015-09']].mean(axis=1)\n",
    "    houses['2015q4'] = houses[['2015-10', '2015-11', '2015-12']].mean(axis=1)\n",
    "\n",
    "    houses['2016q1'] = houses[['2016-01', '2016-02', '2016-03']].mean(axis=1)\n",
    "    houses['2016q2'] = houses[['2016-04', '2016-05', '2016-06']].mean(axis=1)\n",
    "    houses['2016q3'] = houses[['2016-07', '2016-08'           ]].mean(axis=1)\n",
    "    '''\n",
    "    \n",
    "    # try this\n",
    "    #houses.groupby(pd.PeriodIndex(houses.columns, freq='Q'), axis=1).mean()\n",
    "    houses.groupby(pd.PeriodIndex(houses.columns, freq='Q'), axis=1).mean()\n",
    "    \n",
    "    #In [60]: pd.PeriodIndex(df['date'], freq='Q')\n",
    "\n",
    "    \n",
    "    # remove monthly data\n",
    "    #month_cols = [col for col in houses.columns if '-' in col]\n",
    "    #houses = houses.drop(month_cols, axis=1)\n",
    "    \n",
    "    #del_cols = ['RegionID', 'CountyName', 'SizeRank', 'CountyName', 'Metro']\n",
    "    #houses = houses.drop(del_cols, axis=1)    \n",
    "\n",
    "    # rename \n",
    "    #houses['State'] = [states[state] for state in houses['State']]\n",
    "    #houses = houses.set_index(['State', 'RegionName'])\n",
    "    \n",
    "    return houses\n",
    "\n",
    "\n",
    "#convert_housing_data_to_quarters().head()\n",
    "convert_housing_data_to_quarters()"
   ]
  },
  {
   "cell_type": "code",
   "execution_count": null,
   "metadata": {
    "collapsed": false
   },
   "outputs": [],
   "source": [
    "from scipy import stats\n",
    "import numpy as np\n",
    "\n",
    "def run_ttest():\n",
    "    '''First creates new data showing the decline or growth of housing prices\n",
    "    between the recession start and the recession bottom. Then runs a ttest\n",
    "    comparing the university town values to the non-university towns values, \n",
    "    return whether the alternative hypothesis (that the two groups are the same)\n",
    "    is true or not as well as the p-value of the confidence. \n",
    "    \n",
    "    Return the tuple (different, p, better) where different=True if the t-test is\n",
    "    True at a p<0.01 (we reject the null hypothesis), or different=False if \n",
    "    otherwise (we cannot reject the null hypothesis). The variable p should\n",
    "    be equal to the exact p value returned from scipy.stats.ttest_ind(). The\n",
    "    value for better should be either \"university town\" or \"non-university town\"\n",
    "    depending on which has a lower mean price ratio (which is equivilent to a\n",
    "    reduced market loss).''' \n",
    "        \n",
    "    # get housing data in ressession\n",
    "    r_start  = get_recession_start()\n",
    "    r_bottom = get_recession_bottom()\n",
    "\n",
    "    # get housing data\n",
    "    hdf = convert_housing_data_to_quarters()\n",
    "    \n",
    "    col_names = list(hdf)\n",
    "    r_start_idx = col_names.index(r_start)\n",
    "    r_bottom_idx = col_names.index(r_bottom)\n",
    "    \n",
    "    hdfr = hdf.ix[ : , r_start_idx:r_bottom_idx+1]\n",
    "    # get decline or growth of housing prices\n",
    "    hdfr['Decline'] = hdfr['2008q3'] - hdfr['2009q2']\n",
    "    \n",
    "    # get university towns\n",
    "    un_towns = get_list_of_university_towns()\n",
    "    un_towns['HasUni'] = True\n",
    "    un_towns = un_towns.set_index(['State', 'RegionName'])\n",
    "    un_towns = un_towns.reset_index()  \n",
    "    \n",
    "    hdfr = hdfr.reset_index()\n",
    "#    hdfr_u = pd.merge(un_towns, hdfr, how='left', right_on=['State','RegionName'], left_on=['State','RegionName'])\n",
    "#    hdfr_u = hdfr_u.set_index(['State', 'RegionName'])\n",
    "    \n",
    "    hdfr = pd.merge(un_towns, hdfr, how='right', right_on=['State','RegionName'], left_on=['State','RegionName'])\n",
    "    hdfr = hdfr.set_index(['State', 'RegionName'])\n",
    "    \n",
    "    # remove rows where HasUni is True\n",
    "    nouni = hdfr[hdfr.HasUni != True]\n",
    "    \n",
    "    #  remove rows where HasUni is not True\n",
    "    withini = hdfr[hdfr.HasUni == True]\n",
    "\n",
    "    # calculate ttest\n",
    "    eval = stats.ttest_ind(nouni['Decline'], withini['Decline'], nan_policy='omit')      \n",
    "    \n",
    "    if eval.pvalue < 0.01:\n",
    "        p = True\n",
    "    else:\n",
    "        p = False\n",
    "    \n",
    "    return (np.bool_(p), eval.pvalue, \"university town\")\n",
    "\n",
    "\n",
    "run_ttest()\n",
    "\n",
    "\n",
    "\n",
    "\n",
    "\n",
    "\n"
   ]
  },
  {
   "cell_type": "code",
   "execution_count": null,
   "metadata": {
    "collapsed": true
   },
   "outputs": [],
   "source": []
  },
  {
   "cell_type": "code",
   "execution_count": null,
   "metadata": {
    "collapsed": true
   },
   "outputs": [],
   "source": []
  },
  {
   "cell_type": "code",
   "execution_count": null,
   "metadata": {
    "collapsed": true
   },
   "outputs": [],
   "source": []
  }
 ],
 "metadata": {
  "anaconda-cloud": {},
  "coursera": {
   "course_slug": "python-data-analysis",
   "graded_item_id": "Il9Fx",
   "launcher_item_id": "TeDW0",
   "part_id": "WGlun"
  },
  "kernelspec": {
   "display_name": "Python [default]",
   "language": "python",
   "name": "python3"
  },
  "language_info": {
   "codemirror_mode": {
    "name": "ipython",
    "version": 3
   },
   "file_extension": ".py",
   "mimetype": "text/x-python",
   "name": "python",
   "nbconvert_exporter": "python",
   "pygments_lexer": "ipython3",
   "version": "3.5.2"
  }
 },
 "nbformat": 4,
 "nbformat_minor": 0
}
