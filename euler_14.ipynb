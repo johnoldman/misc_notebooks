{
 "cells": [
  {
   "cell_type": "code",
   "execution_count": 18,
   "metadata": {},
   "outputs": [
    {
     "data": {
      "text/plain": [
       "'\\nThe following iterative sequence is defined for the set of positive integers:\\n\\nn → n/2 (n is even)\\nn → 3n + 1 (n is odd)\\n\\nUsing the rule above and starting with 13, we generate the following sequence:\\n\\n13 → 40 → 20 → 10 → 5 → 16 → 8 → 4 → 2 → 1\\nIt can be seen that this sequence (starting at 13 and finishing at 1) \\ncontains 10 terms. Although it has not been proved yet (Collatz Problem), \\nit is thought that all starting numbers finish at 1.\\n\\nWhich starting number, under one million, produces the longest chain?\\n\\nNOTE: Once the chain starts the terms are allowed to go above one million.\\n'"
      ]
     },
     "execution_count": 18,
     "metadata": {},
     "output_type": "execute_result"
    }
   ],
   "source": [
    "'''\n",
    "The following iterative sequence is defined for the set of positive integers:\n",
    "\n",
    "n → n/2 (n is even)\n",
    "n → 3n + 1 (n is odd)\n",
    "\n",
    "Using the rule above and starting with 13, we generate the following sequence:\n",
    "\n",
    "13 → 40 → 20 → 10 → 5 → 16 → 8 → 4 → 2 → 1\n",
    "It can be seen that this sequence (starting at 13 and finishing at 1) \n",
    "contains 10 terms. Although it has not been proved yet (Collatz Problem), \n",
    "it is thought that all starting numbers finish at 1.\n",
    "\n",
    "Which starting number, under one million, produces the longest chain?\n",
    "\n",
    "NOTE: Once the chain starts the terms are allowed to go above one million.\n",
    "'''"
   ]
  },
  {
   "cell_type": "code",
   "execution_count": 2,
   "metadata": {},
   "outputs": [],
   "source": [
    "def rule(num):\n",
    "    ''' '''\n",
    "    if num%2 == 0:\n",
    "        # even\n",
    "        return num/2\n",
    "    else:\n",
    "        # odd\n",
    "        return (3 * num) + 1\n",
    "        "
   ]
  },
  {
   "cell_type": "code",
   "execution_count": 3,
   "metadata": {},
   "outputs": [],
   "source": [
    "def chain_len(num):\n",
    "    '''measure number chain'''\n",
    "    chain = 1\n",
    "    while(num > 1):\n",
    "        num = rule(num)\n",
    "        chain += 1\n",
    "    return chain\n",
    "    "
   ]
  },
  {
   "cell_type": "code",
   "execution_count": 4,
   "metadata": {},
   "outputs": [
    {
     "name": "stdout",
     "output_type": "stream",
     "text": [
      "num: 1  new max: 1\n",
      "num: 2  new max: 2\n",
      "num: 3  new max: 8\n",
      "num: 6  new max: 9\n",
      "num: 7  new max: 17\n",
      "num: 9  new max: 20\n",
      "num: 18  new max: 21\n",
      "num: 25  new max: 24\n",
      "num: 27  new max: 112\n",
      "num: 54  new max: 113\n",
      "num: 73  new max: 116\n",
      "num: 97  new max: 119\n",
      "num: 129  new max: 122\n",
      "num: 171  new max: 125\n",
      "num: 231  new max: 128\n",
      "num: 313  new max: 131\n",
      "num: 327  new max: 144\n",
      "num: 649  new max: 145\n",
      "num: 703  new max: 171\n",
      "num: 871  new max: 179\n",
      "num: 1161  new max: 182\n",
      "num: 2223  new max: 183\n",
      "num: 2463  new max: 209\n",
      "num: 2919  new max: 217\n",
      "num: 3711  new max: 238\n",
      "num: 6171  new max: 262\n",
      "num: 10971  new max: 268\n",
      "num: 13255  new max: 276\n",
      "num: 17647  new max: 279\n",
      "num: 23529  new max: 282\n",
      "num: 26623  new max: 308\n",
      "num: 34239  new max: 311\n",
      "num: 35655  new max: 324\n",
      "num: 52527  new max: 340\n",
      "num: 77031  new max: 351\n",
      "num: 106239  new max: 354\n",
      "num: 142587  new max: 375\n",
      "num: 156159  new max: 383\n",
      "num: 216367  new max: 386\n",
      "num: 230631  new max: 443\n",
      "num: 410011  new max: 449\n",
      "num: 511935  new max: 470\n",
      "num: 626331  new max: 509\n",
      "num: 837799  new max: 525\n",
      "num: 1000009  length: 140\n"
     ]
    }
   ],
   "source": [
    "max_chain = 0\n",
    "for num in range(1, 1000010):\n",
    "    len = chain_len(num)\n",
    "    if len > max_chain:\n",
    "        max_chain = len\n",
    "        print('num: {}  new max: {}'.format(num, len))\n",
    "print ('num: {}  length: {}'.format(num, len))"
   ]
  },
  {
   "cell_type": "code",
   "execution_count": null,
   "metadata": {},
   "outputs": [],
   "source": []
  }
 ],
 "metadata": {
  "kernelspec": {
   "display_name": "Python 3",
   "language": "python",
   "name": "python3"
  },
  "language_info": {
   "codemirror_mode": {
    "name": "ipython",
    "version": 3
   },
   "file_extension": ".py",
   "mimetype": "text/x-python",
   "name": "python",
   "nbconvert_exporter": "python",
   "pygments_lexer": "ipython3",
   "version": "3.6.7"
  }
 },
 "nbformat": 4,
 "nbformat_minor": 2
}
