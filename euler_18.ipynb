{
 "cells": [
  {
   "cell_type": "code",
   "execution_count": 1,
   "metadata": {},
   "outputs": [
    {
     "data": {
      "text/plain": [
       "'\\nMaximum path sum I\\n\\nProblem 18 \\n\\nBy starting at the top of the triangle below and moving to adjacent numbers \\non the row below, the maximum total from top to bottom is 23.\\n\\n     3\\n   7  4\\n 2  4  6\\n8  5  9  3\\n\\nThat is, 3 + 7 + 4 + 9 = 23.\\n\\nFind the maximum total from top to bottom of the triangle below:\\n\\n75\\n95 64\\n17 47 82\\n18 35 87 10\\n20 04 82 47 65\\n19 01 23 75 03 34\\n88 02 77 73 07 63 67\\n99 65 04 28 06 16 70 92\\n41 41 26 56 83 40 80 70 33\\n41 48 72 33 47 32 37 16 94 29\\n53 71 44 65 25 43 91 52 97 51 14\\n70 11 33 28 77 73 17 78 39 68 17 57\\n91 71 52 38 17 14 91 43 58 50 27 29 48\\n63 66 04 68 89 53 67 30 73 16 69 87 40 31\\n04 62 98 27 23 09 70 98 73 93 38 53 60 04 23\\n\\nNOTE: As there are only 16384 routes, it is possible to solve this \\nproblem by trying every route. \\nHowever, Problem 67, is the same challenge with a triangle containing one-hundred rows; \\nit cannot be solved by brute force, and requires a clever method! ;o)\\n\\n'"
      ]
     },
     "execution_count": 1,
     "metadata": {},
     "output_type": "execute_result"
    }
   ],
   "source": [
    "'''\n",
    "Maximum path sum I\n",
    "\n",
    "Problem 18 \n",
    "\n",
    "By starting at the top of the triangle below and moving to adjacent numbers \n",
    "on the row below, the maximum total from top to bottom is 23.\n",
    "\n",
    "     3\n",
    "   7  4\n",
    " 2  4  6\n",
    "8  5  9  3\n",
    "\n",
    "That is, 3 + 7 + 4 + 9 = 23.\n",
    "\n",
    "Find the maximum total from top to bottom of the triangle below:\n",
    "\n",
    "75\n",
    "95 64\n",
    "17 47 82\n",
    "18 35 87 10\n",
    "20 04 82 47 65\n",
    "19 01 23 75 03 34\n",
    "88 02 77 73 07 63 67\n",
    "99 65 04 28 06 16 70 92\n",
    "41 41 26 56 83 40 80 70 33\n",
    "41 48 72 33 47 32 37 16 94 29\n",
    "53 71 44 65 25 43 91 52 97 51 14\n",
    "70 11 33 28 77 73 17 78 39 68 17 57\n",
    "91 71 52 38 17 14 91 43 58 50 27 29 48\n",
    "63 66 04 68 89 53 67 30 73 16 69 87 40 31\n",
    "04 62 98 27 23 09 70 98 73 93 38 53 60 04 23\n",
    "\n",
    "NOTE: As there are only 16384 routes, it is possible to solve this \n",
    "problem by trying every route. \n",
    "However, Problem 67, is the same challenge with a triangle containing one-hundred rows; \n",
    "it cannot be solved by brute force, and requires a clever method! ;o)\n",
    "\n",
    "'''"
   ]
  },
  {
   "cell_type": "code",
   "execution_count": 53,
   "metadata": {},
   "outputs": [],
   "source": [
    "data = '''\n",
    "75\n",
    "95 64\n",
    "17 47 82\n",
    "18 35 87 10\n",
    "20 04 82 47 65\n",
    "19 01 23 75 03 34\n",
    "88 02 77 73 07 63 67\n",
    "99 65 04 28 06 16 70 92\n",
    "41 41 26 56 83 40 80 70 33\n",
    "41 48 72 33 47 32 37 16 94 29\n",
    "53 71 44 65 25 43 91 52 97 51 14\n",
    "70 11 33 28 77 73 17 78 39 68 17 57\n",
    "91 71 52 38 17 14 91 43 58 50 27 29 48\n",
    "63 66 04 68 89 53 67 30 73 16 69 87 40 31\n",
    "04 62 98 27 23 09 70 98 73 93 38 53 60 04 23\n",
    "'''"
   ]
  },
  {
   "cell_type": "code",
   "execution_count": 29,
   "metadata": {},
   "outputs": [],
   "source": [
    "tri_1 = [\n",
    "[3],\n",
    "[7,  4],\n",
    "[2,  4,  6],\n",
    "[8,  5,  9,  3]]"
   ]
  },
  {
   "cell_type": "code",
   "execution_count": 30,
   "metadata": {},
   "outputs": [],
   "source": [
    "triangle = [\n",
    "[75],\n",
    "[95, 64],\n",
    "[17, 47, 82],\n",
    "[18, 35, 87, 10],\n",
    "[20,  4, 82, 47, 65],\n",
    "[19,  1, 23, 75,  3, 34],\n",
    "[88,  2, 77, 73,  7, 63, 67],\n",
    "[99, 65,  4, 28,  6, 16, 70, 92],\n",
    "[41, 41, 26, 56, 83, 40, 80, 70, 33],\n",
    "[41, 48, 72, 33, 47, 32, 37, 16, 94, 29],\n",
    "[53, 71, 44, 65, 25, 43, 91, 52, 97, 51, 14],\n",
    "[70, 11, 33, 28, 77, 73, 17, 78, 39, 68, 17, 57],\n",
    "[91, 71, 52, 38, 17, 14, 91, 43, 58, 50, 27, 29, 48],\n",
    "[63, 66,  4, 68, 89, 53, 67, 30, 73, 16, 69, 87, 40, 31],\n",
    "[ 4, 62, 98, 27, 23,  9, 70, 98, 73, 93, 38, 53, 60,  4, 23]]\n"
   ]
  },
  {
   "cell_type": "code",
   "execution_count": 51,
   "metadata": {},
   "outputs": [],
   "source": [
    "q = [ \n",
    "      [55],\n",
    "\t  [94, 48],\n",
    "\t  [95, 30, 96],\n",
    "\t  [77, 71, 26, 67],\n",
    "\t  [97, 13, 76, 38, 45],\n",
    "\t  [7, 36, 79, 16, 37, 68],\n",
    "\t  [48, 7, 9, 18, 70, 26, 6],\n",
    "\t  [18, 72, 79, 46, 59, 79, 29, 90],\n",
    "\t  [20, 76, 87, 11, 32, 7, 7, 49, 18],\n",
    "\t  [27, 83, 58, 35, 71, 11, 25, 57, 29, 85],\n",
    "\t  [14, 64, 36, 96, 27, 11, 58, 56, 92, 18, 55],\n",
    "\t  [2, 90, 3, 60, 48, 49, 41, 46, 33, 36, 47, 23],\n",
    "\t  [92, 50, 48, 2, 36, 59, 42, 79, 72, 20, 82, 77, 42],\n",
    "\t  [56, 78, 38, 80, 39, 75, 2, 71, 66, 66, 1, 3, 55, 72],\n",
    "\t  [44, 25, 67, 84, 71, 67, 11, 61, 40, 57, 58, 89, 40, 56, 36],\n",
    "\t  [85, 32, 25, 85, 57, 48, 84, 35, 47, 62, 17, 1, 1, 99, 89, 52],\n",
    "\t  [6, 71, 28, 75, 94, 48, 37, 10, 23, 51, 6, 48, 53, 18, 74, 98, 15],\n",
    "\t  [27, 2, 92, 23, 8, 71, 76, 84, 15, 52, 92, 63, 81, 10, 44, 10, 69, 93]]"
   ]
  },
  {
   "cell_type": "code",
   "execution_count": null,
   "metadata": {},
   "outputs": [],
   "source": []
  },
  {
   "cell_type": "code",
   "execution_count": 46,
   "metadata": {},
   "outputs": [],
   "source": [
    "P = [ \n",
    "      [55],\n",
    "\t  [94, 48],\n",
    "\t  [95, 30, 96],\n",
    "\t  [77, 71, 26, 67]]"
   ]
  },
  {
   "cell_type": "code",
   "execution_count": 70,
   "metadata": {},
   "outputs": [],
   "source": [
    "# not 1065 or 1064\n",
    "# q should be 1320\n",
    "\n",
    "def traverse_triangle(tri):\n",
    "    i = 0\n",
    "    col = 0\n",
    "\n",
    "    sum = tri[i][0]\n",
    "    print('{}   {}'.format(tri[i][0], sum))\n",
    "    for i in range(1, len(tri)):\n",
    "        if tri[i][col] < tri[i][col + 1]:\n",
    "            col += 1\n",
    "        sum += tri[i][col]\n",
    "        print('{}   {}'.format(tri[i][col], sum))\n",
    "    print('sum = {}'.format(sum))"
   ]
  },
  {
   "cell_type": "code",
   "execution_count": 71,
   "metadata": {},
   "outputs": [],
   "source": [
    "from functools import (reduce)\n",
    "from itertools import (starmap)\n",
    " \n",
    "# maxPathSum :: [[Int]] -> Int\n",
    "def maxPathSum(rows):\n",
    "    return reduce(\n",
    "        lambda xs, ys: list(starmap(\n",
    "            lambda a, b, c: a + max(b, c),\n",
    "            zip(ys, xs, xs[1:])\n",
    "        )),\n",
    "        reversed(rows[:-1]), rows[-1]\n",
    "    )[0]"
   ]
  },
  {
   "cell_type": "code",
   "execution_count": 72,
   "metadata": {},
   "outputs": [
    {
     "name": "stdout",
     "output_type": "stream",
     "text": [
      "1074\n"
     ]
    }
   ],
   "source": [
    "print(maxPathSum(triangle))"
   ]
  }
 ],
 "metadata": {
  "kernelspec": {
   "display_name": "Python 3",
   "language": "python",
   "name": "python3"
  },
  "language_info": {
   "codemirror_mode": {
    "name": "ipython",
    "version": 3
   },
   "file_extension": ".py",
   "mimetype": "text/x-python",
   "name": "python",
   "nbconvert_exporter": "python",
   "pygments_lexer": "ipython3",
   "version": "3.6.6"
  }
 },
 "nbformat": 4,
 "nbformat_minor": 2
}
