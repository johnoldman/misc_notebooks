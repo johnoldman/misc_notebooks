{
 "cells": [
  {
   "cell_type": "code",
   "execution_count": 1,
   "metadata": {},
   "outputs": [
    {
     "data": {
      "text/plain": [
       "'\\neuler_15\\nStarting in the top left corner of a 2×2 grid, \\nand only being able to move to the right and down, \\nthere are exactly 6 routes to the bottom right corner.\\n\\nHow many such routes are there through a 20×20 grid?\\n'"
      ]
     },
     "execution_count": 1,
     "metadata": {},
     "output_type": "execute_result"
    }
   ],
   "source": [
    "'''\n",
    "euler_15\n",
    "Starting in the top left corner of a 2×2 grid, \n",
    "and only being able to move to the right and down, \n",
    "there are exactly 6 routes to the bottom right corner.\n",
    "\n",
    "How many such routes are there through a 20×20 grid?\n",
    "\n",
    "35345263800 was wrong\n",
    "'''"
   ]
  },
  {
   "cell_type": "code",
   "execution_count": 1,
   "metadata": {},
   "outputs": [],
   "source": [
    "def init_grid(n):\n",
    "    a = [[0] * n for i in range(n)]\n",
    "    return a"
   ]
  },
  {
   "cell_type": "code",
   "execution_count": 2,
   "metadata": {},
   "outputs": [],
   "source": [
    "def set_row_0(g):\n",
    "    i = 0\n",
    "    for col in g:\n",
    "        g[i][0] = 1\n",
    "        g[0][i]= 1\n",
    "        i += 1\n",
    "    return g\n",
    "        "
   ]
  },
  {
   "cell_type": "code",
   "execution_count": 3,
   "metadata": {},
   "outputs": [],
   "source": [
    "def set_row_1(g):\n",
    "    i = 0\n",
    "    for col in g:\n",
    "        g[i][1] = i + 1\n",
    "        g[1][i] = i + 1\n",
    "        i += 1\n",
    "    return g"
   ]
  },
  {
   "cell_type": "code",
   "execution_count": 4,
   "metadata": {},
   "outputs": [],
   "source": [
    "def set_rest(g):\n",
    "    for i in range(len(g)):\n",
    "        for j in range(len(g)):\n",
    "            if g[i][j] == 0:\n",
    "                g[i][j] = g[i-1][j] + g[i][j-1]\n",
    "    return g"
   ]
  },
  {
   "cell_type": "code",
   "execution_count": 5,
   "metadata": {},
   "outputs": [],
   "source": [
    "def print_grid(g):\n",
    "    print(' '.join([str(elem) for row in g for elem in row]))\n",
    "\n",
    "    "
   ]
  },
  {
   "cell_type": "code",
   "execution_count": 6,
   "metadata": {},
   "outputs": [],
   "source": [
    "def print_grid_top(grid):\n",
    "    i = len(grid)\n",
    "    print(grid[i-1][i-1])"
   ]
  },
  {
   "cell_type": "code",
   "execution_count": 7,
   "metadata": {},
   "outputs": [
    {
     "name": "stdout",
     "output_type": "stream",
     "text": [
      "137846528820\n"
     ]
    }
   ],
   "source": [
    "g_size = 20\n",
    "g_size += 1\n",
    "grid = init_grid(g_size)\n",
    "#print_grid(grid)\n",
    "grid = set_row_0(grid)\n",
    "grid = set_row_1(grid)\n",
    "grid = set_rest(grid)\n",
    "#print_grid(grid)\n",
    "print_grid_top(grid)\n",
    "\n",
    "# ans = 137846528820\n"
   ]
  },
  {
   "cell_type": "code",
   "execution_count": null,
   "metadata": {},
   "outputs": [],
   "source": []
  },
  {
   "cell_type": "code",
   "execution_count": null,
   "metadata": {},
   "outputs": [],
   "source": []
  }
 ],
 "metadata": {
  "kernelspec": {
   "display_name": "Python 3",
   "language": "python",
   "name": "python3"
  },
  "language_info": {
   "codemirror_mode": {
    "name": "ipython",
    "version": 3
   },
   "file_extension": ".py",
   "mimetype": "text/x-python",
   "name": "python",
   "nbconvert_exporter": "python",
   "pygments_lexer": "ipython3",
   "version": "3.6.6"
  }
 },
 "nbformat": 4,
 "nbformat_minor": 2
}
